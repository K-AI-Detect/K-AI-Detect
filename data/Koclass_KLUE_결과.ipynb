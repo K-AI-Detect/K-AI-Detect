{
  "nbformat": 4,
  "nbformat_minor": 0,
  "metadata": {
    "colab": {
      "provenance": [],
      "gpuType": "T4"
    },
    "kernelspec": {
      "name": "python3",
      "display_name": "Python 3"
    },
    "language_info": {
      "name": "python"
    },
    "accelerator": "GPU"
  },
  "cells": [
    {
      "cell_type": "code",
      "execution_count": null,
      "metadata": {
        "colab": {
          "base_uri": "https://localhost:8080/"
        },
        "id": "NhWuT5cKq7W9",
        "outputId": "cc46ebe3-2762-466b-9581-822f0f17e64e"
      },
      "outputs": [
        {
          "output_type": "stream",
          "name": "stdout",
          "text": [
            "\u001b[33mWARNING: Ignoring invalid distribution ~vidia-cusolver-cu12 (/usr/local/lib/python3.11/dist-packages)\u001b[0m\u001b[33m\n",
            "\u001b[0m\u001b[33mWARNING: Ignoring invalid distribution ~vidia-cusolver-cu12 (/usr/local/lib/python3.11/dist-packages)\u001b[0m\u001b[33m\n",
            "\u001b[0m\u001b[33mWARNING: Ignoring invalid distribution ~vidia-cusolver-cu12 (/usr/local/lib/python3.11/dist-packages)\u001b[0m\u001b[33m\n",
            "\u001b[0m\u001b[33mWARNING: Ignoring invalid distribution ~vidia-cusolver-cu12 (/usr/local/lib/python3.11/dist-packages)\u001b[0m\u001b[33m\n",
            "\u001b[0m\u001b[33mWARNING: Ignoring invalid distribution ~vidia-cusolver-cu12 (/usr/local/lib/python3.11/dist-packages)\u001b[0m\u001b[33m\n",
            "\u001b[0m\u001b[33mWARNING: Ignoring invalid distribution ~vidia-cusolver-cu12 (/usr/local/lib/python3.11/dist-packages)\u001b[0m\u001b[33m\n",
            "\u001b[0m\u001b[33mWARNING: Ignoring invalid distribution ~vidia-cusolver-cu12 (/usr/local/lib/python3.11/dist-packages)\u001b[0m\u001b[33m\n",
            "\u001b[0m"
          ]
        }
      ],
      "source": [
        "!pip install transformers accelerate sentencepiece -q\n",
        "!pip install konlpy -q\n",
        "!apt-get install -y fonts-nanum > /dev/null"
      ]
    },
    {
      "cell_type": "code",
      "source": [
        "import pandas as pd\n",
        "\n",
        "claude_df = pd.read_csv(\"claude_summarized.csv\", encoding=\"utf-8\")\n",
        "copilot_df = pd.read_csv(\"copilot_summarized.csv\", encoding=\"cp949\")\n",
        "gpt4_df = pd.read_csv(\"GPT4_summarized.csv\", encoding=\"cp949\")\n",
        "gemini_df = pd.read_csv(\"gemini_summarized.csv\", encoding=\"cp949\")\n",
        "\n",
        "claude_df[\"source\"] = \"claude\"\n",
        "copilot_df[\"source\"] = \"copilot\"\n",
        "gpt4_df[\"source\"] = \"gpt4\"\n",
        "gemini_df[\"source\"] = \"gemini\"\n",
        "\n",
        "df_all = pd.concat([claude_df, copilot_df, gpt4_df, gemini_df], ignore_index=True)\n",
        "\n",
        "print(\"총 샘플 수:\", len(df_all))\n",
        "print(\"레이블 분포:\\n\", df_all[\"source\"].value_counts())\n",
        "df_all.head()"
      ],
      "metadata": {
        "colab": {
          "base_uri": "https://localhost:8080/",
          "height": 442
        },
        "id": "E4VhP5iDw5eU",
        "outputId": "763ee2b4-b5cb-4951-fc01-b93aadb2a79e"
      },
      "execution_count": null,
      "outputs": [
        {
          "output_type": "stream",
          "name": "stdout",
          "text": [
            "총 샘플 수: 2000\n",
            "레이블 분포:\n",
            " source\n",
            "claude     500\n",
            "copilot    500\n",
            "gpt4       500\n",
            "gemini     500\n",
            "Name: count, dtype: int64\n"
          ]
        },
        {
          "output_type": "execute_result",
          "data": {
            "text/plain": [
              "   prompt_id                                        prompt_text  \\\n",
              "0          1  부산시(시장 박형준)는 지난 2020년 12월 말부터 입주를 시작한 해운대구 좌동 ...   \n",
              "1          2  김포 문수산성의 유실구간에서 아문과 수문, 성벽기초가 발견돼 문수산성의 상당부분의 ...   \n",
              "2          3  산림을 관리하고 보호해야 할 남부지방산림청 산하 영덕국유림관리소가 산림 벌채 운영 ...   \n",
              "3          4  오는 23일(화) 방송되는 티캐스트 E채널 ‘노는언니’에는 대한민국 여자 야구의 모...   \n",
              "4          5  경북 제1의 도시 포항시가 인구감소 위기에 직면했다. 지난 5년간 매년 2000~3...   \n",
              "\n",
              "         model_label                                           response  \\\n",
              "0  claude-3-5-sonnet  부산시가 해운대구 좌동에 조성한 창업지원주택 내 '창업공간100' 개소식이 4월 2...   \n",
              "1  claude-3-5-sonnet  김포시가 사적 제139호 김포 문수산성의 서측 성벽 유실구간에 대한 발굴조사를 완료...   \n",
              "2  claude-3-5-sonnet  남부지방산림청 산하 영덕국유림관리소가 2019년 12월 영양군 수비면 오기리 일대 ...   \n",
              "3  claude-3-5-sonnet  E채널 '노는언니' 23일 방송에는 한국 여자 야구의 선구자 김라경 선수가 출연한다...   \n",
              "4  claude-3-5-sonnet  포항시가 심각한 인구감소 위기에 직면해있습니다. 2016년 52만2000명이었던 인...   \n",
              "\n",
              "   source model  \n",
              "0  claude   NaN  \n",
              "1  claude   NaN  \n",
              "2  claude   NaN  \n",
              "3  claude   NaN  \n",
              "4  claude   NaN  "
            ],
            "text/html": [
              "\n",
              "  <div id=\"df-268ed4ee-a476-41e8-8ca8-75ae9c32274c\" class=\"colab-df-container\">\n",
              "    <div>\n",
              "<style scoped>\n",
              "    .dataframe tbody tr th:only-of-type {\n",
              "        vertical-align: middle;\n",
              "    }\n",
              "\n",
              "    .dataframe tbody tr th {\n",
              "        vertical-align: top;\n",
              "    }\n",
              "\n",
              "    .dataframe thead th {\n",
              "        text-align: right;\n",
              "    }\n",
              "</style>\n",
              "<table border=\"1\" class=\"dataframe\">\n",
              "  <thead>\n",
              "    <tr style=\"text-align: right;\">\n",
              "      <th></th>\n",
              "      <th>prompt_id</th>\n",
              "      <th>prompt_text</th>\n",
              "      <th>model_label</th>\n",
              "      <th>response</th>\n",
              "      <th>source</th>\n",
              "      <th>model</th>\n",
              "    </tr>\n",
              "  </thead>\n",
              "  <tbody>\n",
              "    <tr>\n",
              "      <th>0</th>\n",
              "      <td>1</td>\n",
              "      <td>부산시(시장 박형준)는 지난 2020년 12월 말부터 입주를 시작한 해운대구 좌동 ...</td>\n",
              "      <td>claude-3-5-sonnet</td>\n",
              "      <td>부산시가 해운대구 좌동에 조성한 창업지원주택 내 '창업공간100' 개소식이 4월 2...</td>\n",
              "      <td>claude</td>\n",
              "      <td>NaN</td>\n",
              "    </tr>\n",
              "    <tr>\n",
              "      <th>1</th>\n",
              "      <td>2</td>\n",
              "      <td>김포 문수산성의 유실구간에서 아문과 수문, 성벽기초가 발견돼 문수산성의 상당부분의 ...</td>\n",
              "      <td>claude-3-5-sonnet</td>\n",
              "      <td>김포시가 사적 제139호 김포 문수산성의 서측 성벽 유실구간에 대한 발굴조사를 완료...</td>\n",
              "      <td>claude</td>\n",
              "      <td>NaN</td>\n",
              "    </tr>\n",
              "    <tr>\n",
              "      <th>2</th>\n",
              "      <td>3</td>\n",
              "      <td>산림을 관리하고 보호해야 할 남부지방산림청 산하 영덕국유림관리소가 산림 벌채 운영 ...</td>\n",
              "      <td>claude-3-5-sonnet</td>\n",
              "      <td>남부지방산림청 산하 영덕국유림관리소가 2019년 12월 영양군 수비면 오기리 일대 ...</td>\n",
              "      <td>claude</td>\n",
              "      <td>NaN</td>\n",
              "    </tr>\n",
              "    <tr>\n",
              "      <th>3</th>\n",
              "      <td>4</td>\n",
              "      <td>오는 23일(화) 방송되는 티캐스트 E채널 ‘노는언니’에는 대한민국 여자 야구의 모...</td>\n",
              "      <td>claude-3-5-sonnet</td>\n",
              "      <td>E채널 '노는언니' 23일 방송에는 한국 여자 야구의 선구자 김라경 선수가 출연한다...</td>\n",
              "      <td>claude</td>\n",
              "      <td>NaN</td>\n",
              "    </tr>\n",
              "    <tr>\n",
              "      <th>4</th>\n",
              "      <td>5</td>\n",
              "      <td>경북 제1의 도시 포항시가 인구감소 위기에 직면했다. 지난 5년간 매년 2000~3...</td>\n",
              "      <td>claude-3-5-sonnet</td>\n",
              "      <td>포항시가 심각한 인구감소 위기에 직면해있습니다. 2016년 52만2000명이었던 인...</td>\n",
              "      <td>claude</td>\n",
              "      <td>NaN</td>\n",
              "    </tr>\n",
              "  </tbody>\n",
              "</table>\n",
              "</div>\n",
              "    <div class=\"colab-df-buttons\">\n",
              "\n",
              "  <div class=\"colab-df-container\">\n",
              "    <button class=\"colab-df-convert\" onclick=\"convertToInteractive('df-268ed4ee-a476-41e8-8ca8-75ae9c32274c')\"\n",
              "            title=\"Convert this dataframe to an interactive table.\"\n",
              "            style=\"display:none;\">\n",
              "\n",
              "  <svg xmlns=\"http://www.w3.org/2000/svg\" height=\"24px\" viewBox=\"0 -960 960 960\">\n",
              "    <path d=\"M120-120v-720h720v720H120Zm60-500h600v-160H180v160Zm220 220h160v-160H400v160Zm0 220h160v-160H400v160ZM180-400h160v-160H180v160Zm440 0h160v-160H620v160ZM180-180h160v-160H180v160Zm440 0h160v-160H620v160Z\"/>\n",
              "  </svg>\n",
              "    </button>\n",
              "\n",
              "  <style>\n",
              "    .colab-df-container {\n",
              "      display:flex;\n",
              "      gap: 12px;\n",
              "    }\n",
              "\n",
              "    .colab-df-convert {\n",
              "      background-color: #E8F0FE;\n",
              "      border: none;\n",
              "      border-radius: 50%;\n",
              "      cursor: pointer;\n",
              "      display: none;\n",
              "      fill: #1967D2;\n",
              "      height: 32px;\n",
              "      padding: 0 0 0 0;\n",
              "      width: 32px;\n",
              "    }\n",
              "\n",
              "    .colab-df-convert:hover {\n",
              "      background-color: #E2EBFA;\n",
              "      box-shadow: 0px 1px 2px rgba(60, 64, 67, 0.3), 0px 1px 3px 1px rgba(60, 64, 67, 0.15);\n",
              "      fill: #174EA6;\n",
              "    }\n",
              "\n",
              "    .colab-df-buttons div {\n",
              "      margin-bottom: 4px;\n",
              "    }\n",
              "\n",
              "    [theme=dark] .colab-df-convert {\n",
              "      background-color: #3B4455;\n",
              "      fill: #D2E3FC;\n",
              "    }\n",
              "\n",
              "    [theme=dark] .colab-df-convert:hover {\n",
              "      background-color: #434B5C;\n",
              "      box-shadow: 0px 1px 3px 1px rgba(0, 0, 0, 0.15);\n",
              "      filter: drop-shadow(0px 1px 2px rgba(0, 0, 0, 0.3));\n",
              "      fill: #FFFFFF;\n",
              "    }\n",
              "  </style>\n",
              "\n",
              "    <script>\n",
              "      const buttonEl =\n",
              "        document.querySelector('#df-268ed4ee-a476-41e8-8ca8-75ae9c32274c button.colab-df-convert');\n",
              "      buttonEl.style.display =\n",
              "        google.colab.kernel.accessAllowed ? 'block' : 'none';\n",
              "\n",
              "      async function convertToInteractive(key) {\n",
              "        const element = document.querySelector('#df-268ed4ee-a476-41e8-8ca8-75ae9c32274c');\n",
              "        const dataTable =\n",
              "          await google.colab.kernel.invokeFunction('convertToInteractive',\n",
              "                                                    [key], {});\n",
              "        if (!dataTable) return;\n",
              "\n",
              "        const docLinkHtml = 'Like what you see? Visit the ' +\n",
              "          '<a target=\"_blank\" href=https://colab.research.google.com/notebooks/data_table.ipynb>data table notebook</a>'\n",
              "          + ' to learn more about interactive tables.';\n",
              "        element.innerHTML = '';\n",
              "        dataTable['output_type'] = 'display_data';\n",
              "        await google.colab.output.renderOutput(dataTable, element);\n",
              "        const docLink = document.createElement('div');\n",
              "        docLink.innerHTML = docLinkHtml;\n",
              "        element.appendChild(docLink);\n",
              "      }\n",
              "    </script>\n",
              "  </div>\n",
              "\n",
              "\n",
              "    <div id=\"df-d524b5cb-c410-4c85-b75d-b4c4fc0b952b\">\n",
              "      <button class=\"colab-df-quickchart\" onclick=\"quickchart('df-d524b5cb-c410-4c85-b75d-b4c4fc0b952b')\"\n",
              "                title=\"Suggest charts\"\n",
              "                style=\"display:none;\">\n",
              "\n",
              "<svg xmlns=\"http://www.w3.org/2000/svg\" height=\"24px\"viewBox=\"0 0 24 24\"\n",
              "     width=\"24px\">\n",
              "    <g>\n",
              "        <path d=\"M19 3H5c-1.1 0-2 .9-2 2v14c0 1.1.9 2 2 2h14c1.1 0 2-.9 2-2V5c0-1.1-.9-2-2-2zM9 17H7v-7h2v7zm4 0h-2V7h2v10zm4 0h-2v-4h2v4z\"/>\n",
              "    </g>\n",
              "</svg>\n",
              "      </button>\n",
              "\n",
              "<style>\n",
              "  .colab-df-quickchart {\n",
              "      --bg-color: #E8F0FE;\n",
              "      --fill-color: #1967D2;\n",
              "      --hover-bg-color: #E2EBFA;\n",
              "      --hover-fill-color: #174EA6;\n",
              "      --disabled-fill-color: #AAA;\n",
              "      --disabled-bg-color: #DDD;\n",
              "  }\n",
              "\n",
              "  [theme=dark] .colab-df-quickchart {\n",
              "      --bg-color: #3B4455;\n",
              "      --fill-color: #D2E3FC;\n",
              "      --hover-bg-color: #434B5C;\n",
              "      --hover-fill-color: #FFFFFF;\n",
              "      --disabled-bg-color: #3B4455;\n",
              "      --disabled-fill-color: #666;\n",
              "  }\n",
              "\n",
              "  .colab-df-quickchart {\n",
              "    background-color: var(--bg-color);\n",
              "    border: none;\n",
              "    border-radius: 50%;\n",
              "    cursor: pointer;\n",
              "    display: none;\n",
              "    fill: var(--fill-color);\n",
              "    height: 32px;\n",
              "    padding: 0;\n",
              "    width: 32px;\n",
              "  }\n",
              "\n",
              "  .colab-df-quickchart:hover {\n",
              "    background-color: var(--hover-bg-color);\n",
              "    box-shadow: 0 1px 2px rgba(60, 64, 67, 0.3), 0 1px 3px 1px rgba(60, 64, 67, 0.15);\n",
              "    fill: var(--button-hover-fill-color);\n",
              "  }\n",
              "\n",
              "  .colab-df-quickchart-complete:disabled,\n",
              "  .colab-df-quickchart-complete:disabled:hover {\n",
              "    background-color: var(--disabled-bg-color);\n",
              "    fill: var(--disabled-fill-color);\n",
              "    box-shadow: none;\n",
              "  }\n",
              "\n",
              "  .colab-df-spinner {\n",
              "    border: 2px solid var(--fill-color);\n",
              "    border-color: transparent;\n",
              "    border-bottom-color: var(--fill-color);\n",
              "    animation:\n",
              "      spin 1s steps(1) infinite;\n",
              "  }\n",
              "\n",
              "  @keyframes spin {\n",
              "    0% {\n",
              "      border-color: transparent;\n",
              "      border-bottom-color: var(--fill-color);\n",
              "      border-left-color: var(--fill-color);\n",
              "    }\n",
              "    20% {\n",
              "      border-color: transparent;\n",
              "      border-left-color: var(--fill-color);\n",
              "      border-top-color: var(--fill-color);\n",
              "    }\n",
              "    30% {\n",
              "      border-color: transparent;\n",
              "      border-left-color: var(--fill-color);\n",
              "      border-top-color: var(--fill-color);\n",
              "      border-right-color: var(--fill-color);\n",
              "    }\n",
              "    40% {\n",
              "      border-color: transparent;\n",
              "      border-right-color: var(--fill-color);\n",
              "      border-top-color: var(--fill-color);\n",
              "    }\n",
              "    60% {\n",
              "      border-color: transparent;\n",
              "      border-right-color: var(--fill-color);\n",
              "    }\n",
              "    80% {\n",
              "      border-color: transparent;\n",
              "      border-right-color: var(--fill-color);\n",
              "      border-bottom-color: var(--fill-color);\n",
              "    }\n",
              "    90% {\n",
              "      border-color: transparent;\n",
              "      border-bottom-color: var(--fill-color);\n",
              "    }\n",
              "  }\n",
              "</style>\n",
              "\n",
              "      <script>\n",
              "        async function quickchart(key) {\n",
              "          const quickchartButtonEl =\n",
              "            document.querySelector('#' + key + ' button');\n",
              "          quickchartButtonEl.disabled = true;  // To prevent multiple clicks.\n",
              "          quickchartButtonEl.classList.add('colab-df-spinner');\n",
              "          try {\n",
              "            const charts = await google.colab.kernel.invokeFunction(\n",
              "                'suggestCharts', [key], {});\n",
              "          } catch (error) {\n",
              "            console.error('Error during call to suggestCharts:', error);\n",
              "          }\n",
              "          quickchartButtonEl.classList.remove('colab-df-spinner');\n",
              "          quickchartButtonEl.classList.add('colab-df-quickchart-complete');\n",
              "        }\n",
              "        (() => {\n",
              "          let quickchartButtonEl =\n",
              "            document.querySelector('#df-d524b5cb-c410-4c85-b75d-b4c4fc0b952b button');\n",
              "          quickchartButtonEl.style.display =\n",
              "            google.colab.kernel.accessAllowed ? 'block' : 'none';\n",
              "        })();\n",
              "      </script>\n",
              "    </div>\n",
              "\n",
              "    </div>\n",
              "  </div>\n"
            ],
            "application/vnd.google.colaboratory.intrinsic+json": {
              "type": "dataframe",
              "variable_name": "df_all",
              "summary": "{\n  \"name\": \"df_all\",\n  \"rows\": 2000,\n  \"fields\": [\n    {\n      \"column\": \"prompt_id\",\n      \"properties\": {\n        \"dtype\": \"number\",\n        \"std\": 456,\n        \"min\": 1,\n        \"max\": 1500,\n        \"num_unique_values\": 1000,\n        \"samples\": [\n          1022,\n          1238,\n          1241\n        ],\n        \"semantic_type\": \"\",\n        \"description\": \"\"\n      }\n    },\n    {\n      \"column\": \"prompt_text\",\n      \"properties\": {\n        \"dtype\": \"string\",\n        \"num_unique_values\": 2000,\n        \"samples\": [\n          \"\\ub2e4\\uc74c \\ub274\\uc2a4 \\uae30\\uc0ac\\ub97c \\uc77d\\uace0, \\uc8fc\\uc694 \\ub0b4\\uc6a9\\uc744 250\\uc790 \\uc774\\uc0c1 300\\uc790 \\uc774\\ud558\\ub85c \\uc694\\uc57d\\ud574\\uc918. \\ub3c5\\uc790\\uac00 \\uae30\\uc0ac \\uc804\\uccb4\\ub97c \\ube60\\ub974\\uac8c \\uc774\\ud574\\ud560 \\uc218 \\uc788\\ub3c4\\ub85d \\ud575\\uc2ec \\uc815\\ubcf4 \\uc704\\uc8fc\\ub85c \\uc790\\uc5f0\\uc2a4\\ub7fd\\uac8c \\uc815\\ub9ac\\ud574\\uc918.\\n\\u2018\\ub2f5\\ub2f5\\ud588\\ub358 \\uace0\\uad6c\\ub9c8 \\ucd95\\uad6c\\ub294 \\uc78a\\uc5b4\\ub77c. \\u2018\\uae40\\ub0a8\\uc77c\\ud45c \\uc0ac\\uc774\\ub2e4 \\ucd95\\uad6c\\u2019\\ub97c \\uc6b0\\ub9ac\\uac00 \\uc774\\ub048\\ub2e4\\u2019 \\n\\n\\n\\n\\ud504\\ub85c\\ucd95\\uad6c K\\ub9ac\\uadf81 \\uc131\\ub0a8FC\\uac00 \\uac1c\\ub9c9 \\uccab \\uacbd\\uae30\\uc5d0\\uc11c \\ucd5c\\uc804\\ubc29\\uacfc \\ucd5c\\ud6c4\\ubc29\\uc744 \\uc9c0\\ud0a8 \\u2018\\ubca0\\ud14c\\ub791 \\ub4c0\\uc624\\u2019 \\uc591\\ub3d9\\ud604(34), \\uae40\\uc601\\uad11(37)\\uc744 \\uc55e\\uc138\\uc6cc \\uc2dc\\uc6d0\\ud55c \\uc2b9\\ub9ac\\ub97c \\uac70\\ub450\\uba70 \\uc62c \\uc2dc\\uc98c\\uc744 \\uae30\\ub300\\ucf00 \\ud588\\ub2e4. \\n\\n\\n\\n\\uc131\\ub0a8\\uc740 9\\uc77c \\uad11\\uc8fc\\uc6d4\\ub4dc\\ucef5\\uacbd\\uae30\\uc7a5\\uc5d0\\uc11c \\uc5f4\\ub9b0 \\u2018\\ud558\\ub098\\uc6d0\\ud050 K\\ub9ac\\uadf81 2020\\u2019 \\uad11\\uc8fcFC\\uc640\\uc758 1\\ub77c\\uc6b4\\ub4dc \\uc6d0\\uc815\\uc5d0\\uc11c 3\\ub144 \\ub9cc\\uc5d0 \\uad6d\\ub0b4 \\ubcf5\\uadc0\\uc804\\uc744 \\uce58\\ub7ec \\uba40\\ud2f0\\uace8(2\\uace8)\\uc744 \\ud3ed\\ubc1c\\uc2dc\\ud0a8 \\uc2a4\\ud2b8\\ub77c\\uc774\\ucee4 \\uc591\\ub3d9\\ud604\\uacfc \\u2018\\ubc31\\uc804\\ub178\\uc7a5\\u2019\\uc218\\ubb38\\uc7a5 \\uae40\\uc5fc\\uad11\\uc758 \\ub9f9\\ud65c\\uc57d\\uc73c\\ub85c 2\\ub3000 \\uc2b9\\ub9ac\\ub97c \\ub530\\ub0c8\\ub2e4. \\n\\n\\n\\n\\uc2e0\\uc784 \\uae40\\ub0a8\\uc77c \\uac10\\ub3c5\\uc758 \\uc2e0\\ub8b0 \\uc18d\\uc5d0 \\uc131\\ub0a8\\uc5d0 \\uc0c8\\ub86d\\uac8c \\ub465\\uc9c0\\ub97c \\ud2bc \\uc591\\ub3d9\\ud604\\uacfc \\uae40\\uc601\\uad11\\uc740 \\uc8fc\\uc704 \\uc6b0\\ub824\\ub97c \\uc53b\\uace0 1\\ub77c\\uc6b4\\ub4dc\\ubd80\\ud130 \\ud384\\ud384 \\ub0a0\\uc544 \\ubbff\\uc74c\\uc5d0 \\ubcf4\\ub2f5\\ud588\\ub2e4. \\n\\n\\n\\n\\uc591\\ub3d9\\ud604\\uc740 K\\ub9ac\\uadf81\\u318d2 \\ud1b5\\uc0b0 293\\uacbd\\uae30\\uc5d0 \\ucd9c\\uc7a5, 92\\uace8\\uc744 \\ub123\\uc740 \\ubca0\\ud14c\\ub791 \\uacf5\\uaca9\\uc218\\ub85c \\ud2b9\\ud788, 2017\\uc2dc\\uc98c \\ud3ec\\ud56d \\uc18c\\uc18d\\uc73c\\ub85c \\ub4dd\\uc810 2\\uc704(19\\uace8)\\uc5d0 \\uc624\\ub974\\uba70 \\ub2a5\\ub825\\uc744 \\uc778\\uc815\\ubc1b\\uc544 \\uc774\\ub4ec\\ud574 \\uc77c\\ubcf8 \\ud504\\ub85c\\ucd95\\uad6c J\\ub9ac\\uadf8\\ub85c \\ubb34\\ub300\\ub97c \\uc62e\\uacbc\\ub2e4. \\n\\n\\n\\n\\uadf8\\ub7ec\\ub098 J\\ub9ac\\uadf8 \\uc138\\ub808\\uc18c \\uc624\\uc0ac\\uce74\\uc5d0\\uc11c \\ubcc0\\ud654\\ub41c \\uc804\\uc220 \\uc801\\uc751\\uc5d0 \\uc5b4\\ub824\\uc6c0\\uc744 \\uacaa\\uc73c\\uba70 26\\uacbd\\uae30\\uc11c 2\\uace8\\ub85c \\ubd80\\uc9c4\\ud55c \\ub4a4 \\uc9c0\\ub09c\\ud574 J2\\ub9ac\\uadf8 \\uc544\\ube44\\uc2a4\\ud30c \\ud6c4\\ucfe0\\uc624\\uce74\\ub85c \\uc774\\uc801\\ud574 10\\uace8\\uc744 \\ub123\\uc5b4 \\ubc18\\ub4f1\\ud588\\ub2e4. \\n\\n\\n\\n\\uadf8\\ub9ac\\uace0 \\uc131\\ub0a8\\uc758 \\ub7ec\\ube0c\\ucf5c\\uc744 \\ubc1b\\uc558\\ub2e4. \\uc2e0\\uc784 \\uae40\\ub0a8\\uc77c \\uac10\\ub3c5\\uc740 \\uc9c0\\ub09c\\ud574 \\ube48\\uc57d\\ud588\\ub358 \\uacf5\\uaca9\\ub825(38\\uacbd\\uae30 30\\uace8) \\ubcf4\\uac15\\uc744 \\uc704\\ud574 \\uc288\\ud305, \\ud5e4\\ub354, \\ubab8\\uc2f8\\uc6c0 \\ub4f1 \\uae30\\uc220\\uc801\\uc778 \\uce21\\uba74\\uacfc \\uc5f0\\uacc4 \\ud50c\\ub808\\uc774 \\ub2a5\\ub825\\uc774 \\ub6f0\\uc5b4\\ub09c \\uc591\\ub3d9\\ud604\\uc744 \\uc601\\uc785\\ud588\\ub2e4. \\n\\n\\n\\n\\uae40\\ub0a8\\uc77c \\uac10\\ub3c5\\uc758 \\uae30\\ub300\\uc5d0 \\uc591\\ub3d9\\ud604\\uc740 \\uccab \\uacbd\\uae30\\ubd80\\ud130 \\uba40\\ud2f0\\uace8\\ub85c \\ubd80\\uc751\\ud588\\ub2e4. \\uacbd\\uae30 \\ud6c4 \\uc591\\ub3d9\\ud604\\uc740 \\u201cK\\ub9ac\\uadf8 \\ubcf5\\uadc0 \\ud6c4 \\uce58\\ub978 \\uccab \\uacbd\\uae30\\ub97c \\uc2b9\\ub9ac\\ud558\\uac8c \\ub3fc \\uae30\\uc058\\ub2e4. \\uac1c\\uc778\\uc801\\uc73c\\ub85c\\ub3c4 2\\uace8\\uc744 \\ub123\\uc5b4 \\uc870\\uae08 \\ub354 \\ud640\\uac00\\ubd84\\ud55c \\ub9c8\\uc74c\\uc73c\\ub85c \\uc2dc\\uc98c\\uc744 \\uc2dc\\uc791\\ud560 \\uc218 \\uc788\\uc744 \\uac83 \\uac19\\ub2e4\\u201d\\uba74\\uc11c \\u201c\\uc624\\ub298\\uc758 \\uc88b\\uc558\\ub358 \\ud50c\\ub808\\uc774\\ub97c \\uae30\\uc5b5\\ud558\\uace0 \\uace0\\uccd0\\uc57c \\ud560 \\uc810\\ub4e4\\uc744 \\ubcf4\\uc644\\ud574 \\uc778\\ucc9c\\uc804\\uc5d0\\uc11c\\ub3c4 \\uc2b9\\ub9ac\\uc5d0 \\uae30\\uc5ec\\ud558\\uaca0\\ub2e4\\u201d\\uace0 \\ubc1d\\ud614\\ub2e4. \\n\\n\\n\\n\\ub610\\ud55c K\\ub9ac\\uadf8 \\ud1b5\\uc0b0 496\\uacbd\\uae30\\ub97c \\ub6f4 \\uae40\\uc601\\uad11\\ub3c4 \\uc774\\ub0a0 \\uc548\\uc815\\ub41c \\ud65c\\uc57d\\uc744 \\ud1b5\\ud574 2019\\uc2dc\\uc98c \\uc8fc\\uc804 \\uace8\\ud0a4\\ud37c \\uae40\\ub3d9\\uc900\\uc758 \\uc774\\uc801 \\uacf5\\ubc31\\uc744 \\ucda9\\ubd84\\ud788 \\uba54\\uc6e0\\ub2e4\\ub294 \\ud3c9\\uac00\\ub2e4. \\n\\n\\n\\n2002\\ub144 \\uc804\\ub0a8\\uc5d0\\uc11c \\ud504\\ub85c\\uc0dd\\ud65c\\uc744 \\uc2dc\\uc791\\ud55c \\ud6c4 \\uc6b8\\uc0b0, \\uacbd\\ub0a8 \\ub4f1\\uc744 \\uac70\\uccd0 K\\ub9ac\\uadf82 \\uc11c\\uc6b8 \\uc774\\ub79c\\ub4dc\\uc5d0 \\uc815\\ucc29\\ud588\\ub358 \\uae40\\uc601\\uad11\\uc740 \\uc62c \\uc2dc\\uc98c\\uc744 \\uc55e\\ub450\\uace0 \\uc774\\ub79c\\ub4dc\\uc640 \\uc0c1\\ud638 \\uacc4\\uc57d\\ud574\\uc9c0 \\ud569\\uc758\\ud55c \\ud6c4 \\ubc31\\uc758\\uc885\\uad70\\uc744 \\uc120\\uc5b8\\ud558\\uace0 \\uc131\\ub0a8\\uc5d0\\uc11c \\ud14c\\uc2a4\\ud2b8\\ub97c \\ubc1b\\uc544 \\uc785\\ub2e8\\ud588\\ub2e4. \\n\\n\\n\\n\\uc774\\ub0a0 \\uae40\\uc601\\uad11\\uc740 \\ub2e4\\uc591\\ud55c \\uacbd\\ud5d8\\uc5d0 \\ubc14\\ud0d5\\uc744 \\ub454 \\uc548\\uc815\\uac10\\uc788\\ub294 \\uc218\\ube44 \\ub9ac\\ub529\\uacfc \\uc21c\\ubc1c\\ub825\\uc744 \\ud1b5\\ud55c \\uc288\\ud37c\\uc138\\uc774\\ube0c\\ub97c \\uc787\\ub530\\ub77c \\uc120\\ubcf4\\uc774\\uba70 \\ubb34\\uc2e4\\uc810 \\uacbd\\uae30\\ub85c \\uc2b9\\ub9ac\\uc5d0 \\uae30\\uc5ec\\ud588\\ub2e4.\",\n          \"\\ubc15\\ud615\\uc900 \\uad6d\\ubbfc\\uc758\\ud798 \\ubd80\\uc0b0\\uc2dc\\uc7a5 \\ubcf4\\uad90\\uc120\\uac70 \\ud6c4\\ubcf4 \\uac00\\uc871\\uc758 \\uc5d8\\uc2dc\\ud2f0 \\ubcf4\\uc720\\uc640 \\ub9e4\\uc785 \\uacfc\\uc815\\uc744 \\ub458\\ub7ec\\uc2fc \\uc5ec\\uc57c\\uc758 \\uc9c4\\uc2e4\\uacf5\\ubc29\\uc774 \\uac08\\uc218\\ub85d \\uaca9\\ud654\\ub418\\uace0 \\uc788\\ub2e4. \\ubc15 \\ud6c4\\ubcf4 \\ubd80\\ubd80\\uac00 \\uc18c\\uc720\\ud55c \\uc5d8\\uc2dc\\ud2f0 \\uc544\\ud30c\\ud2b8\\uac00 \\uc758\\ubd93\\uc544\\ub4e4\\ub85c\\ubd80\\ud130 \\ub9e4\\uc785\\ud55c \\uac83\\uc774\\ub77c\\ub294 \\uc0ac\\uc2e4\\uc774 \\ucd94\\uac00\\ub85c \\uc54c\\ub824\\uc9c0\\uba74\\uc11c \\ubbfc\\uc8fc\\ub2f9\\uc740 \\ubc15 \\ud6c4\\ubcf4\\ub97c \\u2018\\uac70\\uc9d3\\ub9d0\\uc7c1\\uc774 \\ud6c4\\ubcf4\\u2019\\ub77c\\uace0 \\ubab0\\uc544\\uc138\\uc6e0\\uace0, \\ubc15 \\ud6c4\\ubcf4\\ub294 \\u201c\\uc7ac\\ud63c \\uac00\\uc815\\uc5d0 \\ub300\\ud55c \\uc2e0\\uc0c1\\ud138\\uc774\\uc2dd \\uacf5\\uaca9\\uc744 \\uba48\\ucd94\\ub77c\\u201d\\uace0 \\ubc30\\uc218\\uc9c4\\uc744 \\ucce4\\ub2e4.\\n\\n\\ubc15 \\ud6c4\\ubcf4\\ub294 \\uc9c0\\ub09c 19\\uc77c \\uae34\\uae09 \\uae30\\uc790\\ud68c\\uacac\\uc744 \\uc5f4\\uace0 \\uc544\\ub0b4\\uc5d0\\uac8c \\uc5d8\\uc2dc\\ud2f0 \\ubd84\\uc591\\uad8c\\uc744 \\ud310 \\ub9e4\\ub3c4\\uc790\\uac00 40\\ub300 \\uc758\\ubd93\\uc544\\ub4e4(\\uc544\\ub0b4\\uc640 \\uc804 \\ub0a8\\ud3b8 \\uc0ac\\uc774\\uc758 \\uc544\\ub4e4)\\uc784\\uc744 \\uc778\\uc815\\ud588\\ub2e4. \\ubc15 \\ud6c4\\ubcf4\\ub294 \\uc544\\ub4e4\\uacfc \\ub538\\uc774 \\ub2f9\\ucca8\\uc790 \\ubd84\\uc591\\uad8c \\uacc4\\uc57d \\uae30\\uac04\\uc778 2015\\ub144 10\\uc6d4 28\\uc77c\\uacfc 29\\uc77c \\uac01\\uac01 700\\ub9cc \\uc6d0\\uacfc 500\\ub9cc \\uc6d0\\uc758 \\ud504\\ub9ac\\ubbf8\\uc5c4\\uc744 \\uc8fc\\uace0 \\uac19\\uc740 \\ub77c\\uc778\\uc758 \\uc704\\u00b7\\uc544\\ub798\\uce35 \\ubd84\\uc591\\uad8c\\uc744 \\uad6c\\ub9e4\\ud588\\uace0, \\uc544\\ub4e4\\uc774 \\uc794\\uae08\\uc77c\\uc774 \\ub2e4\\uac00\\uc640 \\uc9d1\\uc744 \\ud314\\ub824\\uace0 \\ud588\\uc9c0\\ub9cc, \\uac70\\ub798\\uac00 \\uc774\\ub904\\uc9c0\\uc9c0 \\uc54a\\uc544 \\uacb0\\uad6d \\uc544\\ub0b4\\uac00 \\uc9c0\\ub09c\\ud574 4\\uc6d4 10\\uc77c 1\\uc5b5 \\uc6d0\\uc758 \\ud504\\ub9ac\\ubbf8\\uc5c4\\uc744 \\uc5b9\\uc5b4 \\ub9e4\\uc785\\ud588\\ub2e4\\uace0 \\uc124\\uba85\\ud588\\ub2e4.\\n\\n\\ubc15 \\ud6c4\\ubcf4\\ub294 \\u201c\\ubb38\\uc81c\\uc758 \\ubcf8\\uc9c8\\uc740 \\uac00\\uc871 \\uac04 \\uac70\\ub798\\uac00 \\uc544\\ub2c8\\ub77c \\ubd88\\ubc95\\uc774\\ub098 \\ud2b9\\ud61c\\uac00 \\uc788\\uc5c8\\ub290\\ub0d0\\ub294 \\uc810\\u201d\\uc774\\ub77c\\uba70 \\u201c\\uc544\\ub4e4\\uc5d0\\uac8c \\ub2f9\\ucd08 \\ubd84\\uc591\\uad8c\\uc744 \\ud310\\ub9e4\\ud55c \\ub2f9\\ucca8\\uc790\\ub294 \\uc774\\uc601\\ubcf5 \\uc77c\\uac00 \\ub4f1 \\uc5d8\\uc2dc\\ud2f0 \\uce21\\uacfc\\ub294 \\uc804\\ud600 \\ubb34\\uad00\\ud55c \\uc0ac\\ub78c\\uc774\\uace0, \\uc544\\ub4e4\\uc740 \\uc591\\ub3c4\\uc138 \\ub4f1 \\ubaa8\\ub4e0 \\uc138\\uae08\\uc744 \\ub0b4\\uace0 \\uc815\\uc0c1\\uc801\\uc778 \\uc808\\ucc28\\ub97c \\uac70\\uccd0 \\uac70\\ub798\\ud588\\ub2e4\\u201d\\uace0 \\uac15\\uc870\\ud588\\ub2e4. \\uadf8\\ub7ec\\uba74\\uc11c \\u201c\\ubd88\\ubc95, \\ube44\\ub9ac, \\ud2b9\\ud61c\\uac00 \\uc788\\uc5c8\\ub290\\ub0d0 \\ud558\\ub294 \\uac8c \\ud575\\uc2ec\\uc778\\ub370, \\uac1c\\uc778 \\uac00\\uc871\\uc0ac\\uae4c\\uc9c0 \\ub4dc\\ub7ec\\ub0b4 \\uac74\\ub4dc\\ub9ac\\ub294 \\uac83\\uc740 \\uc804\\ud615\\uc801\\uc778 \\ub124\\uac70\\ud2f0\\ube0c\\ub2e4\\u201d\\uace0 \\ubc18\\ubc1c\\ud588\\ub2e4.\\n\\n\\ubc15 \\ud6c4\\ubcf4\\uc758 \\uc774 \\uac19\\uc740 \\ud574\\uba85\\uc5d0\\ub3c4 \\ub354\\ubd88\\uc5b4\\ubbfc\\uc8fc\\ub2f9\\uacfc \\uae40\\uc601\\ucd98 \\ud6c4\\ubcf4\\ub294 \\u201c\\u2018\\uac70\\uc9d3\\ub9d0\\uc7c1\\uc774 \\ubc15\\ud615\\uc900\\u2019\\uc758 \\uc2e4\\uccb4\\uac00 \\ub9cc\\ucc9c\\ud558\\uc5d0 \\ub4dc\\ub7ec\\ub0ac\\ub2e4\\u201d\\uba70 \\uc2ed\\uc790\\ud3ec\\ud654\\ub97c \\ud37c\\ubd80\\uc5c8\\ub2e4. \\uae40 \\ud6c4\\ubcf4\\ub294 \\u201c\\uad6d\\uc815\\uc6d0 \\ubd88\\ubc95 \\uc0ac\\ucc30\\uacfc \\uc790\\ub140 \\uc785\\uc2dc\\ube44\\ub9ac \\uc758\\ud639, \\uc5d8\\uc2dc\\ud2f0 \\ubd84\\uc591 \\uc758\\ud639\\uae4c\\uc9c0 \\ube44\\ub9ac \\uc758\\ud639 \\uc885\\ud569\\uc138\\ud2b8 \\ubc15\\ud615\\uc900 \\ud6c4\\ubcf4\\uac00 \\uc2dc\\uc7a5\\uc774 \\ub41c\\ub2e4\\uba74 \\uc784\\uae30 1\\ub144\\uc744 \\uac80\\ucc30\\ub9cc \\ub4e4\\ub77d\\uac70\\ub9ac\\ub2e4\\uac00 \\ubcf4\\ub0b4\\uace0 \\ub9d0 \\uac83\\u201d\\uc774\\ub77c\\uace0 \\ub0a0\\uc744 \\uc138\\uc6e0\\ub2e4. \\ubbfc\\uc8fc\\ub2f9 \\ubd80\\uc0b0\\uc120\\ub300\\uc704\\ub3c4 \\u201c\\uc81c\\uae30\\ub418\\uace0 \\uc788\\ub294 \\uc758\\ud639\\ub4e4\\uc5d0 \\ub300\\ud574 \\ud574\\uba85\\ud560 \\uac83\\uc774 \\uc788\\ub2e4\\uba74 \\ud574\\uba85\\ud558\\uace0, \\ub3c4\\ub355\\uc801 \\uc798\\ubabb\\uc73c\\ub85c \\uc2dc\\ubbfc\\ub4e4\\uc5d0\\uac8c \\ubc30\\uc2e0\\uac10\\uacfc \\uc2e4\\ub9dd\\uc744 \\uc92c\\ub2e4\\uba74 \\uc0ac\\uacfc\\ud558\\ub77c\\u201d\\uace0 \\ubab0\\uc544\\ubd99\\uc600\\ub2e4.\\n\\n\\uc774\\uc5d0 \\ub300\\ud574 \\uad6d\\ubbfc\\uc758\\ud798 \\ubd80\\uc0b0\\uc120\\ub300\\uc704\\ub294 \\ubbfc\\uc8fc\\ub2f9\\uc758 \\uacf5\\uc138\\ub97c \\u2018\\uce58\\uc878\\ud55c \\ud751\\uc0c9\\uc120\\uc804\\u2019\\uc774\\ub77c\\uace0 \\ube44\\ub09c\\ud558\\uba70 \\ubc15 \\ud6c4\\ubcf4\\ub97c \\uc5c4\\ud638\\ud588\\ub2e4. \\ud558\\ud0dc\\uacbd \\ucd1d\\uad04\\ubcf8\\ubd80\\uc7a5\\uc740 \\u201c\\uc7ac\\ud63c \\uac00\\uc815\\uc758 \\uc5b4\\ub824\\uc6c0\\uc5d0 \\uae40\\uc601\\ucd98 \\ud6c4\\ubcf4\\ub294 \\uc815\\ub9d0 \\uc2ec\\uc220\\uad82\\uace0 \\uce58\\uc878\\ud558\\uac8c \\uacf5\\uaca9\\ud558\\uace0 \\uc788\\ub2e4\\u201d\\uace0 \\ub418\\ubc1b\\uc544\\ucce4\\ub2e4.\",\n          \"\\ub2e4\\uc74c \\ub274\\uc2a4 \\uae30\\uc0ac\\ub97c \\uc77d\\uace0, \\uc8fc\\uc694 \\ub0b4\\uc6a9\\uc744 250\\uc790 \\uc774\\uc0c1 300\\uc790 \\uc774\\ud558\\ub85c \\uc694\\uc57d\\ud574\\uc918. \\ub3c5\\uc790\\uac00 \\uae30\\uc0ac \\uc804\\uccb4\\ub97c \\ube60\\ub974\\uac8c \\uc774\\ud574\\ud560 \\uc218 \\uc788\\ub3c4\\ub85d \\ud575\\uc2ec \\uc815\\ubcf4 \\uc704\\uc8fc\\ub85c \\uc790\\uc5f0\\uc2a4\\ub7fd\\uac8c \\uc815\\ub9ac\\ud574\\uc918:\\n\\uc644\\uad6c \\uc804\\ubb38\\uae30\\uc5c5 \\uc190\\uc624\\uacf5\\uc740 \\uc778\\uae30 \\uc644\\uad6c \\ube0c\\ub79c\\ub4dc '\\ubc14\\ube44(Barbie)'\\uc640 '\\ud56b\\ud720'\\uc774 \\ubb3c\\uc744 \\ud1b5\\ud55c \\uceec\\ub7ec \\uccb4\\uc778\\uc9c0 \\uc694\\uc18c\\uac00 \\ub354\\ud574\\uc9c4 '\\uc0c9\\uae54\\ub180\\uc774 \\uccb4\\ud5d8 \\uc644\\uad6c'\\ub97c \\uac01\\uac01 \\uc120\\ubcf4\\uc778\\ub2e4\\uace0 16\\uc77c \\ubc1d\\ud614\\ub2e4.\\n\\n\\uc5ec\\uc544 \\uc778\\ud615\\uc758 \\ub300\\ud45c \\ube0c\\ub79c\\ub4dc \\ubc14\\ube44\\ub294 \\uceec\\ub7ec\\ub9ac\\ube4c \\uc2dc\\ub9ac\\uc988\\uc758 \\uc5ec\\ub984 \\uc2e0\\uc81c\\ud488\\uc73c\\ub85c '\\ubc14\\uce89\\uc2a4 \\uceec\\ub7ec\\ub9ac\\ube4c \\ubc14\\ube44'\\ub97c \\uc0c8\\ub86d\\uac8c \\ucd9c\\uc2dc\\ud588\\ub2e4. \\uceec\\ub7ec\\ub9ac\\ube4c \\uc81c\\ud488\\uc758 '\\uceec\\ub7ec \\uccb4\\uc778\\uc9c0' \\uc694\\uc18c\\ub294 \\ucd1d 2\\uac00\\uc9c0\\ub2e4. \\uba3c\\uc800 \\ud2b9\\uc218 \\uc7ac\\uc9c8\\ub85c \\ubaa8\\uc2b5\\uc774 \\uc228\\uaca8\\uc9c4 \\uc778\\ud615\\uc744 \\ubb3c\\uc5d0 \\ub2f4\\uadf8\\uba74 \\ud2b9\\ubcc4\\ud55c \\ud14c\\ub9c8\\uc758 \\ubc14\\ube44\\uac00 \\ubaa8\\uc2b5\\uc744 \\ub4dc\\ub7ec\\ub0b8\\ub2e4. \\ub610 \\uc2a4\\ud380\\uc9c0\\uc5d0 \\ubb3c\\uc744 \\uc801\\uc154 \\ubc14\\ube44\\uc758 \\uc5bc\\uad74\\uacfc \\uba38\\ub9ac\\uc5d0 \\ubb38\\uc9c0\\ub974\\uba74 \\ubb3c \\uc628\\ub3c4\\uc5d0 \\ub530\\ub77c \\uba54\\uc774\\ud06c\\uc5c5 \\ud639\\uc740 \\ud5e4\\uc5b4 \\uc0c9\\uc0c1\\uc774 \\ubcc0\\ud55c\\ub2e4\\ub294 \\uc810\\uc774\\ub2e4.\\n\\n\\uc5ec\\ub984\\ud734\\uac00 \\ucf58\\uc149\\ud2b8\\uc758 \\ubc14\\uce89\\uc2a4 \\uceec\\ub7ec\\ub9ac\\ube4c \\ubc14\\ube44\\ub294 \\ubbf8\\uc2a4\\ud130\\ub9ac\\ud55c \\uceec\\ub7ec\\ub85c \\ubaa8\\uc2b5\\uc744 \\uac10\\ucd98 \\uc778\\ud615\\uc744 \\ub530\\ub73b\\ud55c \\ubb3c\\uc5d0 \\ub123\\uc5b4 \\ud754\\ub4e4\\uba74 \\uaf43\\ubb34\\ub2ac \\ud328\\ud134\\uc758 \\uc218\\uc601\\ubcf5\\uc744 \\uc785\\uc740 \\ubc14\\ube44\\uac00 \\ub9c8\\ubc95\\ucc98\\ub7fc \\ub098\\ud0c0\\ub09c\\ub2e4. \\ud3ec\\ud568\\ub41c 4\\uc885\\uc758 \\uc11c\\ud504\\ub77c\\uc774\\uc988 \\ud329\\uc5d0\\ub294 \\ube44\\uce58\\ud0c0\\uc6d4, \\uc2a4\\ud2b8\\ub7a9 \\uc0cc\\ub4e4, \\uc120\\uae00\\ub77c\\uc2a4, \\uc120 \\ucea1, \\ud799\\uc0c9 \\ub4f1 \\uc5ec\\ub984 \\uc2a4\\ud0c0\\uc77c\\ub9c1\\uc744 \\ub3c4\\uc640\\uc904 \\uc18c\\ud488\\ub4e4\\uc774 \\ub79c\\ub364\\ud558\\uac8c \\ub4e4\\uc5b4\\uc788\\uc5b4 \\ud55c \\uac1c\\uc529 \\uc5f4\\uc5b4\\ubcf4\\ub294 \\uc7ac\\ubbf8\\uc5d0 \\uafb8\\ubbf8\\ub294 \\uc990\\uac70\\uc6c0\\ub3c4 \\uc900\\ub2e4.\\n\\n\\uc774\\uc640 \\ud568\\uaed8 \\uac19\\uc740 \\uc5ec\\ub984\\ud734\\uac00 \\ucf58\\uc149\\ud2b8\\ub85c \\uccbc\\uc2dc\\uac00 \\uc8fc\\uc778\\uacf5\\uc778 '\\ubc14\\uce89\\uc2a4 \\uceec\\ub7ec\\ub9ac\\ube4c \\uccbc\\uc2dc'\\ub3c4 \\ucd9c\\uc2dc\\ub410\\ub2e4. \\uccbc\\uc2dc\\ub294 \\ub6f0\\ub180\\uae30 \\uc88b\\uc544\\ud558\\ub294 \\ubc14\\ube44\\uc758 \\uc0ac\\ub791\\uc2a4\\ub7ec\\uc6b4 \\ub9c9\\ub0c7\\ub3d9\\uc0dd\\uc774\\ub2e4. \\uadc0\\uc5ec\\uc6b4 \\ubbf8\\ub2c8\\ub3cc \\uc0ac\\uc774\\uc988\\uc5d0 \\uc5b4\\uc6b8\\ub9ac\\ub294 \\uc791\\uace0 \\uae5c\\ucc0d\\ud55c \\uc18c\\ud488\\ub4e4\\uc774 \\ud568\\uaed8 \\uad6c\\uc131\\ub410\\ub2e4.\\n\\n\\uc804 \\uc138\\uacc4 \\ud310\\ub9e4 NO.1 \\ubbf8\\ub2c8\\uce74 \\ube0c\\ub79c\\ub4dc \\ud56b\\ud720(Hot Wheels)\\uc758 '\\uceec\\ub7ec \\uccb4\\uc778\\uc9c0 \\uc2e4\\ud5d8\\uc2e4 \\ud50c\\ub808\\uc774\\uc138\\ud2b8'\\ub294 \\ucd9c\\uc2dc \\uc774\\ud6c4 \\uafb8\\uc900\\ud788 \\uc0ac\\ub791\\ubc1b\\uc73c\\uba70 \\uc2a4\\ud14c\\ub514\\uc140\\ub7ec\\ub85c \\uc790\\ub9ac\\ub9e4\\uae40\\ud558\\uace0 \\uc788\\ub294 \\uc81c\\ud488\\uc774\\ub2e4. \\ub2e4\\uc591\\ud55c \\ud56b\\ud720 \\uc81c\\ud488 \\uc911 \\ud2b9\\ud788 \\uc5ec\\ub984\\ucca0 \\ub354 \\ub9ce\\uc740 \\ud310\\ub9e4\\ub7c9\\uc744 \\uc790\\ub791\\ud55c\\ub2e4.\\n\\n\\ubb3c \\ud3ed\\ud3ec \\ud2b8\\ub799\\uc73c\\ub85c \\uc2dc\\uc6d0\\ud55c \\uc6cc\\ud130 \\ub808\\uc774\\uc2f1\\uc744 \\uc990\\uae38 \\uc218 \\uc788\\ub294 '\\uceec\\ub7ec \\uccb4\\uc778\\uc9c0 \\uc2e4\\ud5d8\\uc2e4 \\ud50c\\ub808\\uc774\\uc138\\ud2b8'\\ub294 \\ub530\\ub73b\\ud55c \\ubb3c \\ud3ed\\ud3ec\\ub97c \\uc9c0\\ub0a0 \\ub54c\\uc640 \\ucc28\\uac00\\uc6b4 \\ubb3c\\ud0f1\\ud06c\\ub85c \\ubbf8\\ub2c8\\uce74\\ub97c \\uc810\\ud504\\uc2dc\\ud0ac \\ub54c \\uac01 \\uad6c\\uac04\\ubcc4 \\ubb3c \\uc628\\ub3c4\\uc5d0 \\ub530\\ub77c \\ubbf8\\ub2c8\\uce74 \\uc0c9\\uc0c1\\uc774 \\ub9c8\\ubc95\\ucc98\\ub7fc \\ubcc0\\ud55c\\ub2e4. \\ud2b8\\ub799 \\uc704\\uc758 \\uc561\\uc158 \\ub808\\uc774\\uc2a4\\uc640 \\ubb3c\\ub180\\uc774, \\uc0c9\\uae54\\ub180\\uc774\\uae4c\\uc9c0 \\ud55c \\ubc88\\uc5d0 \\ubaa8\\ub450 \\uccb4\\ud5d8 \\uac00\\ub2a5\\ud558\\ub2e4. \\ubcc4\\ub3c4 \\uad6c\\uc131\\ub41c 6\\uac00\\uc9c0 \\uc0c9\\uc0c1\\uacfc \\ub514\\uc790\\uc778\\uc758 \\uc804\\uc6a9 \\ubca0\\uc774\\uc9c1\\uce74\\ub85c \\ub354\\uc6b1 \\ub2e4\\ucc44\\ub85c\\uc6b4 \\uceec\\ub7ec \\uccb4\\uc778\\uc9c0 \\ub180\\uc774\\ub97c \\uc990\\uae38 \\uc218 \\uc788\\ub2e4.\\n\\n\\uc190\\uc624\\uacf5 \\ubc14\\ube44 \\ube0c\\ub79c\\ub4dc \\ub2f4\\ub2f9\\uc790\\ub294 \\\"\\ub450 \\uc81c\\ud488 \\ubaa8\\ub450 \\ubb3c \\uc628\\ub3c4\\uc5d0 \\ub530\\ub77c \\ub2e4\\uc591\\ud55c \\uc11c\\ud504\\ub77c\\uc774\\uc988 \\uc694\\uc18c\\uac00 \\ub4dc\\ub7ec\\ub098\\ub294 \\uc804 \\uc138\\uacc4\\uc801\\uc778 \\ud310\\ub9e4 \\ud788\\ud2b8 \\uc0c1\\ud488\\\"\\uc774\\ub77c\\uba74\\uc11c \\\"\\ubc14\\ube44\\uc758 \\ubaa8\\uc2b5\\uc744 \\uc0c1\\uc0c1\\ud558\\uace0 \\uae30\\ub300\\ud558\\ub294 \\ud2b9\\ubcc4\\ud55c \\uc5b8\\ubc15\\uc2f1 \\uacbd\\ud5d8 \\ub4f1 \\uc57d\\uac04\\uc758 \\ubb3c\\uc774 \\ud638\\uae30\\uc2ec \\ub9ce\\uc740 \\uaf2c\\ub9c8 \\uce5c\\uad6c\\ub4e4\\uc758 \\ucee4\\ub2e4\\ub780 \\uc0c1\\uc0c1\\ub825\\uacfc \\ub9cc\\ub098 \\ud2b9\\ubcc4\\ud55c \\ub180\\uc774\\uc758 \\uacbd\\ud5d8\\uc744 \\uc120\\ubb3c\\ud560 \\uac83\\\"\\uc774\\ub77c\\uace0 \\uc804\\ud588\\ub2e4.\\n\"\n        ],\n        \"semantic_type\": \"\",\n        \"description\": \"\"\n      }\n    },\n    {\n      \"column\": \"model_label\",\n      \"properties\": {\n        \"dtype\": \"category\",\n        \"num_unique_values\": 3,\n        \"samples\": [\n          \"claude-3-5-sonnet\",\n          \"copilot\",\n          \"GPT4o\"\n        ],\n        \"semantic_type\": \"\",\n        \"description\": \"\"\n      }\n    },\n    {\n      \"column\": \"response\",\n      \"properties\": {\n        \"dtype\": \"string\",\n        \"num_unique_values\": 2000,\n        \"samples\": [\n          \"\\ud504\\ub85c\\ucd95\\uad6c K\\ub9ac\\uadf81 \\uc131\\ub0a8FC\\uac00 \\uad11\\uc8fcFC\\uc640\\uc758 \\uac1c\\ub9c9\\uc804 \\uc6d0\\uc815 \\uacbd\\uae30\\uc5d0\\uc11c 2\\ub3000\\uc73c\\ub85c \\uc2dc\\uc6d0\\ud55c \\uc2b9\\ub9ac\\ub97c \\uac70\\ub450\\uba70 \\uc62c \\uc2dc\\uc98c \\uae30\\ub300\\uac10\\uc744 \\ub192\\uc600\\ub2e4. \\uc2e0\\uc784 \\uae40\\ub0a8\\uc77c \\uac10\\ub3c5\\uc758 \\uc9c0\\ud718 \\uc544\\ub798, \\ucd5c\\uc804\\ubc29\\uc758 \\ubca0\\ud14c\\ub791 \\uacf5\\uaca9\\uc218 \\uc591\\ub3d9\\ud604(34)\\uc774 \\uba40\\ud2f0\\uace8\\uc744 \\ud130\\ub728\\ub838\\uace0, \\ucd5c\\ud6c4\\ubc29\\uc758 \\uc218\\ubb38\\uc7a5 \\uae40\\uc601\\uad11(37)\\uc740 \\uc548\\uc815\\uc801\\uc778 \\uc218\\ube44 \\ub9ac\\ub529\\uacfc \\uc120\\ubc29\\uc73c\\ub85c \\ubb34\\uc2e4\\uc810 \\uacbd\\uae30\\ub97c \\uc774\\ub04c\\uc5c8\\ub2e4. \\uc8fc\\uc704\\uc758 \\uc6b0\\ub824\\ub97c \\uc53b\\uace0 \\ub9f9\\ud65c\\uc57d\\ud55c \\ub450 \\ubca0\\ud14c\\ub791\\uc758 \\ud65c\\uc57d\\uc740 \\u2018\\uae40\\ub0a8\\uc77c\\ud45c \\uc0ac\\uc774\\ub2e4 \\ucd95\\uad6c\\u2019\\ub97c \\uc608\\uace0\\ud558\\uba70 \\uc131\\ub0a8\\uc758 \\uc62c \\uc2dc\\uc98c \\uc804\\ub9dd\\uc744 \\ubc1d\\uac8c \\ud588\\ub2e4.\",\n          \"\\uad6d\\ubbfc\\uc758\\ud798 \\ubc15\\ud615\\uc900 \\ubd80\\uc0b0\\uc2dc\\uc7a5 \\ubcf4\\uad90\\uc120\\uac70 \\ud6c4\\ubcf4\\uc758 \\uc5d8\\uc2dc\\ud2f0 \\uc544\\ud30c\\ud2b8 \\ub9e4\\uc785\\uc744 \\ub458\\ub7ec\\uc2fc \\ub17c\\ub780\\uc774 \\ud655\\ub300\\ub418\\uace0 \\uc788\\uc2b5\\ub2c8\\ub2e4. \\ubc15 \\ud6c4\\ubcf4\\ub294 \\uae34\\uae09 \\uae30\\uc790\\ud68c\\uacac\\uc744 \\ud1b5\\ud574 \\uc544\\ub0b4\\uac00 \\uc758\\ubd93\\uc544\\ub4e4\\ub85c\\ubd80\\ud130 \\uc5d8\\uc2dc\\ud2f0 \\ubd84\\uc591\\uad8c\\uc744 \\ub9e4\\uc785\\ud588\\uc74c\\uc744 \\uc778\\uc815\\ud588\\uc2b5\\ub2c8\\ub2e4. \\uc758\\ubd93\\uc544\\ub4e4\\uc740 2015\\ub144 \\ud504\\ub9ac\\ubbf8\\uc5c4\\uc744 \\uc8fc\\uace0 \\ubd84\\uc591\\uad8c\\uc744 \\uad6c\\ub9e4\\ud588\\uc73c\\uba70, \\uc774\\ud6c4 \\uac70\\ub798\\uac00 \\uc131\\uc0ac\\ub418\\uc9c0 \\uc54a\\uc790 \\ubc15 \\ud6c4\\ubcf4\\uc758 \\uc544\\ub0b4\\uac00 1\\uc5b5 \\uc6d0\\uc758 \\ud504\\ub9ac\\ubbf8\\uc5c4\\uc744 \\ucd94\\uac00\\ud574 \\ub9e4\\uc785\\ud588\\ub2e4\\uace0 \\uc124\\uba85\\ud588\\uc2b5\\ub2c8\\ub2e4.\\n\\n\\ubc15 \\ud6c4\\ubcf4\\ub294 \\uac00\\uc871 \\uac04 \\uac70\\ub798\\uac00 \\uc544\\ub2cc \\ubd88\\ubc95\\u00b7\\ud2b9\\ud61c \\uc5ec\\ubd80\\uac00 \\ud575\\uc2ec\\uc774\\ub77c\\uba70, \\ubaa8\\ub4e0 \\uac70\\ub798\\uac00 \\uc815\\uc0c1\\uc801 \\uc808\\ucc28\\ub97c \\ud1b5\\ud574 \\uc774\\ub8e8\\uc5b4\\uc84c\\ub2e4\\uace0 \\uac15\\uc870\\ud588\\uc2b5\\ub2c8\\ub2e4. \\uadf8\\ub7ec\\ub098 \\ubbfc\\uc8fc\\ub2f9\\uacfc \\uae40\\uc601\\ucd98 \\ud6c4\\ubcf4\\ub294 \\ubc15 \\ud6c4\\ubcf4\\ub97c '\\uac70\\uc9d3\\ub9d0\\uc7c1\\uc774'\\ub85c \\uaddc\\uc815\\ud558\\uace0, \\uac01\\uc885 \\uc758\\ud639\\uc5d0 \\ub300\\ud55c \\ud574\\uba85\\uacfc \\uc0ac\\uacfc\\ub97c \\uc694\\uad6c\\ud558\\uba70 \\uacf5\\uc138\\ub97c \\uac15\\ud654\\ud588\\uc2b5\\ub2c8\\ub2e4. \\uc774\\uc5d0 \\uad6d\\ubbfc\\uc758\\ud798\\uc740 \\ubbfc\\uc8fc\\ub2f9\\uc758 \\uacf5\\uaca9\\uc744 '\\uce58\\uc878\\ud55c \\ud751\\uc0c9\\uc120\\uc804'\\uc774\\ub77c\\uace0 \\ubc18\\ubc15\\ud558\\uba70 \\ubc15 \\ud6c4\\ubcf4\\ub97c \\uc639\\ud638\\ud558\\uace0 \\uc788\\uc2b5\\ub2c8\\ub2e4.\",\n          \"\\uc644\\uad6c \\uc804\\ubb38\\uae30\\uc5c5 \\uc190\\uc624\\uacf5\\uc740 '\\ubc14\\ube44'\\uc640 '\\ud56b\\ud720' \\ube0c\\ub79c\\ub4dc\\uc758 \\uc0c8\\ub85c\\uc6b4 '\\uc0c9\\uae54\\ub180\\uc774 \\uccb4\\ud5d8 \\uc644\\uad6c'\\ub97c \\ucd9c\\uc2dc\\ud588\\ub2e4. \\ubc14\\ube44\\uc758 \\uc2e0\\uc81c\\ud488 '\\ubc14\\uce89\\uc2a4 \\uceec\\ub7ec\\ub9ac\\ube4c \\ubc14\\ube44'\\ub294 \\ubb3c\\uc5d0 \\ub2f4\\uadf8\\uba74 \\ud14c\\ub9c8\\uc5d0 \\ub9de\\ucd98 \\ubc14\\ube44\\uac00 \\ub098\\ud0c0\\ub098\\uace0, \\ubb3c \\uc628\\ub3c4\\uc5d0 \\ub530\\ub77c \\uba54\\uc774\\ud06c\\uc5c5\\uacfc \\ud5e4\\uc5b4 \\uc0c9\\uc0c1\\uc774 \\ubcc0\\ud55c\\ub2e4. \\uc774 \\uc81c\\ud488\\uc740 \\uc5ec\\ub984\\ud734\\uac00 \\ucf58\\uc149\\ud2b8\\ub85c, \\ub2e4\\uc591\\ud55c \\uc18c\\ud488\\uacfc \\ud568\\uaed8 \\uc81c\\uacf5\\ub418\\uc5b4 \\uafb8\\ubbf8\\ub294 \\uc7ac\\ubbf8\\ub97c \\ub354\\ud55c\\ub2e4. \\ub610\\ud55c, \\ubc14\\ube44\\uc758 \\ub3d9\\uc0dd '\\uccbc\\uc2dc'\\ub3c4 \\uac19\\uc740 \\ucf58\\uc149\\ud2b8\\ub85c \\ucd9c\\uc2dc\\ub418\\uba70, \\uc791\\uc740 \\uc18c\\ud488\\uc774 \\ud3ec\\ud568\\ub418\\uc5b4 \\uc788\\ub2e4. \\ud56b\\ud720\\uc758 '\\uceec\\ub7ec \\uccb4\\uc778\\uc9c0 \\uc2e4\\ud5d8\\uc2e4 \\ud50c\\ub808\\uc774\\uc138\\ud2b8'\\ub294 \\ubb3c \\uc628\\ub3c4\\uc5d0 \\ub530\\ub77c \\ubbf8\\ub2c8\\uce74 \\uc0c9\\uc0c1\\uc774 \\ubcc0\\ud558\\ub294 \\uc81c\\ud488\\uc73c\\ub85c, \\uc5ec\\ub984\\ucca0 \\uc778\\uae30\\ub97c \\ub04c\\uace0 \\uc788\\ub2e4. \\uc190\\uc624\\uacf5\\uc740 \\uc774\\ub7ec\\ud55c \\uc81c\\ud488\\ub4e4\\uc774 \\ubb3c \\uc628\\ub3c4\\uc5d0 \\ub530\\ub978 \\uc11c\\ud504\\ub77c\\uc774\\uc988 \\uc694\\uc18c\\ub85c \\ud2b9\\ubcc4\\ud55c \\ub180\\uc774 \\uacbd\\ud5d8\\uc744 \\uc81c\\uacf5\\ud55c\\ub2e4\\uace0 \\ubc1d\\ud614\\ub2e4.\"\n        ],\n        \"semantic_type\": \"\",\n        \"description\": \"\"\n      }\n    },\n    {\n      \"column\": \"source\",\n      \"properties\": {\n        \"dtype\": \"category\",\n        \"num_unique_values\": 4,\n        \"samples\": [\n          \"copilot\",\n          \"gemini\",\n          \"claude\"\n        ],\n        \"semantic_type\": \"\",\n        \"description\": \"\"\n      }\n    },\n    {\n      \"column\": \"model\",\n      \"properties\": {\n        \"dtype\": \"category\",\n        \"num_unique_values\": 1,\n        \"samples\": [\n          \"gemini 2.5 flash\"\n        ],\n        \"semantic_type\": \"\",\n        \"description\": \"\"\n      }\n    }\n  ]\n}"
            }
          },
          "metadata": {},
          "execution_count": 6
        }
      ]
    },
    {
      "cell_type": "code",
      "source": [
        "from sklearn.model_selection import train_test_split\n",
        "from sklearn.preprocessing import LabelEncoder\n",
        "\n",
        "X = df_all[\"response\"].astype(str)\n",
        "y = df_all[\"source\"]\n",
        "\n",
        "le = LabelEncoder()\n",
        "y_encoded = le.fit_transform(y)\n",
        "label_map = dict(zip(le.classes_, le.transform(le.classes_)))\n",
        "\n",
        "X_train, X_temp, y_train, y_temp = train_test_split(X, y_encoded, test_size=0.3, random_state=42, stratify=y_encoded)\n",
        "X_val, X_test, y_val, y_test = train_test_split(X_temp, y_temp, test_size=0.5, random_state=42, stratify=y_temp)"
      ],
      "metadata": {
        "id": "JVABtwI7rKOG"
      },
      "execution_count": null,
      "outputs": []
    },
    {
      "cell_type": "code",
      "source": [
        "from transformers import AutoTokenizer\n",
        "from torch.utils.data import Dataset\n",
        "import torch\n",
        "\n",
        "MODEL_NAME = \"klue/roberta-base\"\n",
        "tokenizer = AutoTokenizer.from_pretrained(MODEL_NAME)\n",
        "MAX_LEN = 256\n",
        "\n",
        "class TextDataset(Dataset):\n",
        "    def __init__(self, texts, labels):\n",
        "        self.texts = texts.tolist()\n",
        "        self.labels = labels\n",
        "\n",
        "    def __len__(self):\n",
        "        return len(self.texts)\n",
        "\n",
        "    def __getitem__(self, idx):\n",
        "        encoding = tokenizer(\n",
        "            self.texts[idx],\n",
        "            truncation=True,\n",
        "            padding=\"max_length\",\n",
        "            max_length=MAX_LEN,\n",
        "            return_tensors=\"pt\"\n",
        "        )\n",
        "        return {\n",
        "            \"input_ids\": encoding[\"input_ids\"].squeeze(0),\n",
        "            \"attention_mask\": encoding[\"attention_mask\"].squeeze(0),\n",
        "            \"labels\": torch.tensor(self.labels[idx], dtype=torch.long)\n",
        "        }\n",
        "\n",
        "train_dataset = TextDataset(X_train, y_train)\n",
        "val_dataset = TextDataset(X_val, y_val)\n",
        "test_dataset = TextDataset(X_test, y_test)\n"
      ],
      "metadata": {
        "id": "xCAf7lNfrepc"
      },
      "execution_count": null,
      "outputs": []
    },
    {
      "cell_type": "code",
      "source": [
        "from transformers import AutoModelForSequenceClassification\n",
        "from torch.utils.data import DataLoader\n",
        "from torch import nn, optim\n",
        "from tqdm import tqdm\n",
        "import torch\n",
        "\n",
        "# 모델 준비\n",
        "device = torch.device(\"cuda\" if torch.cuda.is_available() else \"cpu\")\n",
        "model = AutoModelForSequenceClassification.from_pretrained(MODEL_NAME, num_labels=4)\n",
        "model.to(device)\n",
        "\n",
        "# 하이퍼파라미터\n",
        "BATCH_SIZE = 16\n",
        "LEARNING_RATE = 2e-5\n",
        "PATIENCE = 3\n",
        "EPOCHS = 10\n",
        "\n",
        "optimizer = optim.AdamW(model.parameters(), lr=LEARNING_RATE)\n",
        "loss_fn = nn.CrossEntropyLoss()\n",
        "\n",
        "train_loader = DataLoader(train_dataset, batch_size=BATCH_SIZE, shuffle=True)\n",
        "val_loader = DataLoader(val_dataset, batch_size=BATCH_SIZE)\n",
        "\n",
        "# EarlyStopping 변수\n",
        "best_val_acc = 0\n",
        "patience_counter = 0\n"
      ],
      "metadata": {
        "colab": {
          "base_uri": "https://localhost:8080/"
        },
        "id": "7tiuIcaGrhCc",
        "outputId": "0d7bc31f-1069-4a84-d3e0-c2dc0669c4f5"
      },
      "execution_count": null,
      "outputs": [
        {
          "output_type": "stream",
          "name": "stderr",
          "text": [
            "Some weights of RobertaForSequenceClassification were not initialized from the model checkpoint at klue/roberta-base and are newly initialized: ['classifier.dense.bias', 'classifier.dense.weight', 'classifier.out_proj.bias', 'classifier.out_proj.weight']\n",
            "You should probably TRAIN this model on a down-stream task to be able to use it for predictions and inference.\n"
          ]
        }
      ]
    },
    {
      "cell_type": "code",
      "source": [
        "for epoch in range(EPOCHS):\n",
        "    model.train()\n",
        "    total_loss = 0\n",
        "\n",
        "    for batch in tqdm(train_loader, desc=f\"[Epoch {epoch+1}] Training\"):\n",
        "        input_ids = batch[\"input_ids\"].to(device)\n",
        "        attention_mask = batch[\"attention_mask\"].to(device)\n",
        "        labels = batch[\"labels\"].to(device)\n",
        "\n",
        "        outputs = model(input_ids=input_ids, attention_mask=attention_mask, labels=labels)\n",
        "        loss = outputs.loss\n",
        "\n",
        "        optimizer.zero_grad()\n",
        "        loss.backward()\n",
        "        optimizer.step()\n",
        "\n",
        "        total_loss += loss.item()\n",
        "\n",
        "    print(f\"Train Loss: {total_loss:.4f}\")\n",
        "\n",
        "    # 검증\n",
        "    model.eval()\n",
        "    correct = 0\n",
        "    total = 0\n",
        "    with torch.no_grad():\n",
        "        for batch in val_loader:\n",
        "            input_ids = batch[\"input_ids\"].to(device)\n",
        "            attention_mask = batch[\"attention_mask\"].to(device)\n",
        "            labels = batch[\"labels\"].to(device)\n",
        "\n",
        "            outputs = model(input_ids=input_ids, attention_mask=attention_mask)\n",
        "            preds = torch.argmax(outputs.logits, dim=1)\n",
        "\n",
        "            correct += (preds == labels).sum().item()\n",
        "            total += labels.size(0)\n",
        "\n",
        "    val_acc = correct / total\n",
        "    print(f\"Validation Accuracy: {val_acc:.4f}\")\n",
        "\n",
        "    # EarlyStopping 조건 확인\n",
        "    if val_acc > best_val_acc:\n",
        "        best_val_acc = val_acc\n",
        "        patience_counter = 0\n",
        "        torch.save(model.state_dict(), \"best_model.pt\")\n",
        "        print(\" Best model saved.\")\n",
        "    else:\n",
        "        patience_counter += 1\n",
        "        print(f\"⏳ Patience: {patience_counter}/{PATIENCE}\")\n",
        "        if patience_counter >= PATIENCE:\n",
        "            print(\" Early stopping triggered.\")\n",
        "            break"
      ],
      "metadata": {
        "colab": {
          "base_uri": "https://localhost:8080/"
        },
        "id": "PxA2k39ArkYi",
        "outputId": "51fc2fc7-75f2-476d-c553-d75b9ece7e3d"
      },
      "execution_count": null,
      "outputs": [
        {
          "output_type": "stream",
          "name": "stderr",
          "text": [
            "[Epoch 1] Training: 100%|██████████| 88/88 [01:02<00:00,  1.40it/s]\n"
          ]
        },
        {
          "output_type": "stream",
          "name": "stdout",
          "text": [
            "Train Loss: 97.4288\n",
            "Validation Accuracy: 0.5967\n",
            " Best model saved.\n"
          ]
        },
        {
          "output_type": "stream",
          "name": "stderr",
          "text": [
            "[Epoch 2] Training: 100%|██████████| 88/88 [01:02<00:00,  1.41it/s]\n"
          ]
        },
        {
          "output_type": "stream",
          "name": "stdout",
          "text": [
            "Train Loss: 64.7133\n",
            "Validation Accuracy: 0.6333\n",
            " Best model saved.\n"
          ]
        },
        {
          "output_type": "stream",
          "name": "stderr",
          "text": [
            "[Epoch 3] Training: 100%|██████████| 88/88 [01:02<00:00,  1.41it/s]\n"
          ]
        },
        {
          "output_type": "stream",
          "name": "stdout",
          "text": [
            "Train Loss: 41.8240\n",
            "Validation Accuracy: 0.7267\n",
            " Best model saved.\n"
          ]
        },
        {
          "output_type": "stream",
          "name": "stderr",
          "text": [
            "[Epoch 4] Training: 100%|██████████| 88/88 [01:02<00:00,  1.41it/s]\n"
          ]
        },
        {
          "output_type": "stream",
          "name": "stdout",
          "text": [
            "Train Loss: 27.0800\n",
            "Validation Accuracy: 0.8067\n",
            " Best model saved.\n"
          ]
        },
        {
          "output_type": "stream",
          "name": "stderr",
          "text": [
            "[Epoch 5] Training: 100%|██████████| 88/88 [01:02<00:00,  1.42it/s]\n"
          ]
        },
        {
          "output_type": "stream",
          "name": "stdout",
          "text": [
            "Train Loss: 18.8939\n",
            "Validation Accuracy: 0.8000\n",
            "⏳ Patience: 1/3\n"
          ]
        },
        {
          "output_type": "stream",
          "name": "stderr",
          "text": [
            "[Epoch 6] Training: 100%|██████████| 88/88 [01:01<00:00,  1.42it/s]\n"
          ]
        },
        {
          "output_type": "stream",
          "name": "stdout",
          "text": [
            "Train Loss: 12.9560\n",
            "Validation Accuracy: 0.7867\n",
            "⏳ Patience: 2/3\n"
          ]
        },
        {
          "output_type": "stream",
          "name": "stderr",
          "text": [
            "[Epoch 7] Training: 100%|██████████| 88/88 [01:01<00:00,  1.42it/s]\n"
          ]
        },
        {
          "output_type": "stream",
          "name": "stdout",
          "text": [
            "Train Loss: 7.5521\n",
            "Validation Accuracy: 0.8167\n",
            " Best model saved.\n"
          ]
        },
        {
          "output_type": "stream",
          "name": "stderr",
          "text": [
            "[Epoch 8] Training: 100%|██████████| 88/88 [01:01<00:00,  1.42it/s]\n"
          ]
        },
        {
          "output_type": "stream",
          "name": "stdout",
          "text": [
            "Train Loss: 3.9880\n",
            "Validation Accuracy: 0.7867\n",
            "⏳ Patience: 1/3\n"
          ]
        },
        {
          "output_type": "stream",
          "name": "stderr",
          "text": [
            "[Epoch 9] Training: 100%|██████████| 88/88 [01:01<00:00,  1.43it/s]\n"
          ]
        },
        {
          "output_type": "stream",
          "name": "stdout",
          "text": [
            "Train Loss: 5.2355\n",
            "Validation Accuracy: 0.7933\n",
            "⏳ Patience: 2/3\n"
          ]
        },
        {
          "output_type": "stream",
          "name": "stderr",
          "text": [
            "[Epoch 10] Training: 100%|██████████| 88/88 [01:01<00:00,  1.43it/s]\n"
          ]
        },
        {
          "output_type": "stream",
          "name": "stdout",
          "text": [
            "Train Loss: 7.3744\n",
            "Validation Accuracy: 0.7200\n",
            "⏳ Patience: 3/3\n",
            " Early stopping triggered.\n"
          ]
        }
      ]
    },
    {
      "cell_type": "code",
      "source": [
        "test_loader = DataLoader(test_dataset, batch_size=8)\n",
        "model.load_state_dict(torch.load(\"best_model.pt\"))\n",
        "model.eval()\n",
        "correct = 0\n",
        "total = 0\n",
        "true_labels = []\n",
        "predicted_labels = []\n",
        "\n",
        "with torch.no_grad():\n",
        "    for batch in test_loader:\n",
        "        input_ids = batch[\"input_ids\"].to(device)\n",
        "        attention_mask = batch[\"attention_mask\"].to(device)\n",
        "        labels = batch[\"labels\"].to(device)\n",
        "\n",
        "        outputs = model(input_ids=input_ids, attention_mask=attention_mask)\n",
        "        preds = torch.argmax(outputs.logits, dim=1)\n",
        "\n",
        "        correct += (preds == labels).sum().item()\n",
        "        total += labels.size(0)\n",
        "\n",
        "        true_labels.extend(labels.cpu().numpy())\n",
        "        predicted_labels.extend(preds.cpu().numpy())\n",
        "\n",
        "print(f\"테스트셋 정확도: {correct / total:.4f}\")\n"
      ],
      "metadata": {
        "colab": {
          "base_uri": "https://localhost:8080/"
        },
        "id": "aSLih0IorlDK",
        "outputId": "dd47a93e-2ddd-4461-9a8e-45705a2869ba"
      },
      "execution_count": null,
      "outputs": [
        {
          "output_type": "stream",
          "name": "stdout",
          "text": [
            "테스트셋 정확도: 0.8400\n"
          ]
        }
      ]
    },
    {
      "cell_type": "code",
      "source": [
        "from sklearn.metrics import classification_report\n",
        "import pandas as pd\n",
        "\n",
        "target_names = list(label_map.keys())\n",
        "\n",
        "print(\"\\nClassification Report:\")\n",
        "print(classification_report(true_labels, predicted_labels, target_names=target_names))\n",
        "\n",
        "report_df = pd.DataFrame(classification_report(\n",
        "    true_labels, predicted_labels, target_names=target_names, output_dict=True\n",
        ")).transpose()\n",
        "\n",
        "print(\"\\n📋 Precision / Recall / F1-score (요약):\")\n",
        "print(report_df[['precision', 'recall', 'f1-score']])"
      ],
      "metadata": {
        "colab": {
          "base_uri": "https://localhost:8080/"
        },
        "id": "R2X8YLM98E1B",
        "outputId": "f3e0950a-6fe2-4c1b-ed60-24388cb13282"
      },
      "execution_count": null,
      "outputs": [
        {
          "output_type": "stream",
          "name": "stdout",
          "text": [
            "\n",
            "Classification Report:\n",
            "              precision    recall  f1-score   support\n",
            "\n",
            "      claude       0.78      0.92      0.85        75\n",
            "     copilot       0.79      0.85      0.82        75\n",
            "      gemini       0.94      0.81      0.87        75\n",
            "        gpt4       0.88      0.77      0.82        75\n",
            "\n",
            "    accuracy                           0.84       300\n",
            "   macro avg       0.85      0.84      0.84       300\n",
            "weighted avg       0.85      0.84      0.84       300\n",
            "\n",
            "\n",
            "📋 Precision / Recall / F1-score (요약):\n",
            "              precision    recall  f1-score\n",
            "claude         0.784091  0.920000  0.846626\n",
            "copilot        0.790123  0.853333  0.820513\n",
            "gemini         0.938462  0.813333  0.871429\n",
            "gpt4           0.878788  0.773333  0.822695\n",
            "accuracy       0.840000  0.840000  0.840000\n",
            "macro avg      0.847866  0.840000  0.840316\n",
            "weighted avg   0.847866  0.840000  0.840316\n"
          ]
        }
      ]
    },
    {
      "cell_type": "code",
      "source": [
        "# 혼동 행렬\n",
        "\n",
        "from sklearn.metrics import confusion_matrix, ConfusionMatrixDisplay\n",
        "import matplotlib.pyplot as plt\n",
        "\n",
        "cm = confusion_matrix(true_labels, predicted_labels)\n",
        "disp = ConfusionMatrixDisplay(confusion_matrix=cm, display_labels=label_map.keys())\n",
        "\n",
        "plt.figure(figsize=(6, 6))\n",
        "disp.plot(cmap=\"Blues\", values_format=\"d\")\n",
        "plt.title(\"Confusion Matrix\")\n",
        "plt.grid(False)\n",
        "plt.show()"
      ],
      "metadata": {
        "colab": {
          "base_uri": "https://localhost:8080/",
          "height": 491
        },
        "id": "ZADmFJpcxKFz",
        "outputId": "be694105-049f-4914-d253-5b45abd8a8e8"
      },
      "execution_count": null,
      "outputs": [
        {
          "output_type": "display_data",
          "data": {
            "text/plain": [
              "<Figure size 600x600 with 0 Axes>"
            ]
          },
          "metadata": {}
        },
        {
          "output_type": "display_data",
          "data": {
            "text/plain": [
              "<Figure size 640x480 with 2 Axes>"
            ],
            "image/png": "[encoded data removed]"
          },
          "metadata": {}
        }
      ]
    },
    {
      "cell_type": "code",
      "source": [
        "# 라벨 이름 복원\n",
        "idx_to_label = {v: k for k, v in label_map.items()}\n",
        "\n",
        "# 예측 결과 보기용 리스트\n",
        "predicted_labels = []\n",
        "true_labels = []\n",
        "\n",
        "with torch.no_grad():\n",
        "    for batch in test_loader:\n",
        "        input_ids = batch[\"input_ids\"].to(device)\n",
        "        attention_mask = batch[\"attention_mask\"].to(device)\n",
        "        labels = batch[\"labels\"].to(device)\n",
        "\n",
        "        outputs = model(input_ids=input_ids, attention_mask=attention_mask)\n",
        "        preds = torch.argmax(outputs.logits, dim=1)\n",
        "\n",
        "        predicted_labels.extend(preds.cpu().numpy())\n",
        "        true_labels.extend(labels.cpu().numpy())\n",
        "\n",
        "# 일부 샘플 출력\n",
        "for i in range(10):\n",
        "    print(f\"[{i+1}] 실제: {idx_to_label[true_labels[i]]} / 예측: {idx_to_label[predicted_labels[i]]}\")\n"
      ],
      "metadata": {
        "colab": {
          "base_uri": "https://localhost:8080/"
        },
        "id": "GtV5QixpxMqw",
        "outputId": "8c48069e-f8ce-4474-a78e-c57d96847c71"
      },
      "execution_count": null,
      "outputs": [
        {
          "output_type": "stream",
          "name": "stdout",
          "text": [
            "[1] 실제: gpt4 / 예측: claude\n",
            "[2] 실제: gemini / 예측: gemini\n",
            "[3] 실제: copilot / 예측: copilot\n",
            "[4] 실제: copilot / 예측: copilot\n",
            "[5] 실제: copilot / 예측: copilot\n",
            "[6] 실제: gemini / 예측: gemini\n",
            "[7] 실제: gemini / 예측: gemini\n",
            "[8] 실제: gpt4 / 예측: gpt4\n",
            "[9] 실제: gpt4 / 예측: claude\n",
            "[10] 실제: gpt4 / 예측: gpt4\n"
          ]
        }
      ]
    },
    {
      "cell_type": "code",
      "source": [
        "import pandas as pd\n",
        "\n",
        "X_test_list = X_test.tolist()\n",
        "\n",
        "true_label_names = [idx_to_label[label] for label in true_labels]\n",
        "pred_label_names = [idx_to_label[label] for label in predicted_labels]\n",
        "\n",
        "test_result_df = pd.DataFrame({\n",
        "    \"text\": X_test_list,\n",
        "    \"true_label\": true_label_names,\n",
        "    \"predicted_label\": pred_label_names\n",
        "})\n",
        "\n",
        "# 저장\n",
        "test_result_df.to_csv(\"test_predictions.csv\", index=False, encoding=\"utf-8-sig\")"
      ],
      "metadata": {
        "id": "I1OoOPgw2Rw9"
      },
      "execution_count": null,
      "outputs": []
    },
    {
      "cell_type": "code",
      "source": [
        "from google.colab import drive\n",
        "drive.mount('/content/drive')"
      ],
      "metadata": {
        "colab": {
          "base_uri": "https://localhost:8080/"
        },
        "id": "GObcRSbU-9Ct",
        "outputId": "ac80c9cc-05e0-48ef-a4c9-0201123bd279"
      },
      "execution_count": null,
      "outputs": [
        {
          "output_type": "stream",
          "name": "stdout",
          "text": [
            "Mounted at /content/drive\n"
          ]
        }
      ]
    },
    {
      "cell_type": "code",
      "source": [
        "# 예: 내 드라이브에 \"model_checkpoints\" 폴더에 저장\n",
        "!mkdir -p /content/drive/MyDrive/model_checkpoints\n",
        "!cp best_model.pt /content/drive/MyDrive/model_checkpoints/best_model.pt\n"
      ],
      "metadata": {
        "id": "rlCkY151_jA8"
      },
      "execution_count": null,
      "outputs": []
    },
    {
      "cell_type": "code",
      "source": [
        "# 모델과 토크나이저 저장\n",
        "model.save_pretrained(\"./KLUE_model\")\n",
        "tokenizer.save_pretrained(\"./KLUE_model\")\n",
        "print(\"모델 저장 완료: ./KLUE_model 폴더에 저장됨\")"
      ],
      "metadata": {
        "colab": {
          "base_uri": "https://localhost:8080/"
        },
        "id": "qNADtXg6AAiF",
        "outputId": "42f824f5-95fc-4f44-8433-3686c62ae05d"
      },
      "execution_count": null,
      "outputs": [
        {
          "output_type": "stream",
          "name": "stdout",
          "text": [
            "모델 저장 완료: ./KLUE_model 폴더에 저장됨\n"
          ]
        }
      ]
    },
    {
      "cell_type": "code",
      "source": [
        "!mkdir -p /content/drive/MyDrive/model_checkpoints\n",
        "!cp best_model.pt /content/drive/MyDrive/model_checkpoints/best_model.pt"
      ],
      "metadata": {
        "id": "7-soLo-LANrD"
      },
      "execution_count": null,
      "outputs": []
    },
    {
      "cell_type": "code",
      "source": [
        "idx_to_label = {v: k for k, v in label_map.items()}\n",
        "\n",
        "def predict_text_class(text):\n",
        "    model.eval()\n",
        "    encoding = tokenizer(\n",
        "        text,\n",
        "        truncation=True,\n",
        "        padding=\"max_length\",\n",
        "        max_length=256,\n",
        "        return_tensors=\"pt\"\n",
        "    )\n",
        "    input_ids = encoding[\"input_ids\"].to(device)\n",
        "    attention_mask = encoding[\"attention_mask\"].to(device)\n",
        "\n",
        "    with torch.no_grad():\n",
        "        output = model(input_ids=input_ids, attention_mask=attention_mask)\n",
        "        pred = torch.argmax(output.logits, dim=1).item()\n",
        "\n",
        "    return idx_to_label[pred]\n"
      ],
      "metadata": {
        "id": "DdZfUA6Urm3V"
      },
      "execution_count": null,
      "outputs": []
    },
    {
      "cell_type": "code",
      "source": [
        "# 사용자 입력 예시\n",
        "my_text = \"\"\"대한항공이 IATA(국제항공운송협회)와 '트래블 패스' 시범 운영을 위한 업무협약을 체결했다. 트래블 패스는 코로나19 검사 결과를 휴대전화 앱으로 확인할 수 있는 디지털 증명서로, 향후 백신 접종 증명 정보도 포함될 예정이다. 이는 각국의 입국 절차에서 요구되는 코로나19 관련 정보를 효율적으로 공유하기 위해 추진되는 정책이다.\n",
        "\n",
        "대한항공은 4월 중순 내부 시범 운영을 거친 후, 5월부터 인천-로스앤젤레스(KE011편) 노선에서 승객 대상 시범 서비스를 실시한다. 승객들은 공항 도착 후 코로나19 항원 검사를 받고, 1시간 내 결과를 앱으로 전송받아 탑승할 수 있다. 대한항공은 이를 통해 안전한 항공여행 환경 조성에 기여한다는 방침이다.\"\"\"\n",
        "\n",
        "# 예측 결과 출력\n",
        "print(\"예측 결과:\", predict_text_class(my_text))\n"
      ],
      "metadata": {
        "colab": {
          "base_uri": "https://localhost:8080/"
        },
        "id": "WGzZ64W3r57q",
        "outputId": "85a8759c-f5cc-47ad-fcd2-e8dcaf91b94a"
      },
      "execution_count": null,
      "outputs": [
        {
          "output_type": "stream",
          "name": "stdout",
          "text": [
            "예측 결과: claude\n"
          ]
        }
      ]
    },
    {
      "cell_type": "code",
      "source": [
        "!pip install streamlit -q"
      ],
      "metadata": {
        "colab": {
          "base_uri": "https://localhost:8080/"
        },
        "id": "MmpfXkCz2XbC",
        "outputId": "1fc83ed2-24fd-4334-853e-99587c1f5dcd"
      },
      "execution_count": null,
      "outputs": [
        {
          "output_type": "stream",
          "name": "stdout",
          "text": [
            "\u001b[33mWARNING: Ignoring invalid distribution ~vidia-cusolver-cu12 (/usr/local/lib/python3.11/dist-packages)\u001b[0m\u001b[33m\n",
            "\u001b[0m\u001b[33mWARNING: Ignoring invalid distribution ~vidia-cusolver-cu12 (/usr/local/lib/python3.11/dist-packages)\u001b[0m\u001b[33m\n",
            "\u001b[0m\u001b[33mWARNING: Ignoring invalid distribution ~vidia-cusolver-cu12 (/usr/local/lib/python3.11/dist-packages)\u001b[0m\u001b[33m\n",
            "\u001b[0m"
          ]
        }
      ]
    },
    {
      "cell_type": "code",
      "source": [
        "%%writefile app.py\n",
        "\n",
        "import streamlit as st\n",
        "from transformers import AutoTokenizer, AutoModelForSequenceClassification\n",
        "import torch\n",
        "\n",
        "# 모델 불러오기\n",
        "MODEL_PATH = \"./KLUE_model\"\n",
        "model = AutoModelForSequenceClassification.from_pretrained(MODEL_PATH)\n",
        "tokenizer = AutoTokenizer.from_pretrained(MODEL_PATH)\n",
        "\n",
        "device = torch.device(\"cuda\" if torch.cuda.is_available() else \"cpu\")\n",
        "model.to(device)\n",
        "model.eval()\n",
        "\n",
        "# 라벨 매핑 정의\n",
        "label_map = {0: \"claude\", 1: \"copilot\", 2: \"gemini\", 3: \"gpt4\"}\n",
        "idx_to_label = label_map\n",
        "\n",
        "# 예측 함수\n",
        "def predict(text):\n",
        "    inputs = tokenizer(text, return_tensors=\"pt\", truncation=True, padding=\"max_length\", max_length=256)\n",
        "    inputs = {key: val.to(device) for key, val in inputs.items()}\n",
        "    with torch.no_grad():\n",
        "        outputs = model(**inputs)\n",
        "        pred = torch.argmax(outputs.logits, dim=1).item()\n",
        "    return idx_to_label[pred]\n",
        "\n",
        "# Streamlit 인터페이스\n",
        "st.title(\"🧠 한국어 AI 텍스트 생성모델 분류기\")\n",
        "st.markdown(\"이 앱은 입력된 텍스트가 Claude / Copilot / GPT-4 / Gemini 중 어떤 모델이 생성했는지를 예측합니다.\")\n",
        "\n",
        "user_input = st.text_area(\"✍️ 텍스트를 입력하세요:\", height=200)\n",
        "\n",
        "if st.button(\"예측하기\"):\n",
        "    if user_input.strip() == \"\":\n",
        "        st.warning(\"텍스트를 입력해주세요.\")\n",
        "    else:\n",
        "        prediction = predict(user_input)\n",
        "        st.success(f\"✅ 예측된 생성 모델: **{prediction.upper()}**\")\n"
      ],
      "metadata": {
        "colab": {
          "base_uri": "https://localhost:8080/"
        },
        "id": "yRKh5q-b2UGi",
        "outputId": "b276874b-848f-41a3-ac2d-9ead39f8dd38"
      },
      "execution_count": null,
      "outputs": [
        {
          "output_type": "stream",
          "name": "stdout",
          "text": [
            "Overwriting app.py\n"
          ]
        }
      ]
    },
    {
      "cell_type": "code",
      "source": [
        "import urllib\n",
        "print(\"Password/Enpoint IP for localtunnel is:\",urllib.request.urlopen('https://ipv4.icanhazip.com').read().decode('utf8').strip(\"\\n\"))\n",
        "\n",
        "# \"Password/Enpoint IP for localtunnel is:\" 우측에 xx.xxx.xx.xxx 혹은 xx.xxx.xxx.xxx 형식의 숫자가 나온다."
      ],
      "metadata": {
        "colab": {
          "base_uri": "https://localhost:8080/"
        },
        "id": "HOnLVGYe2X94",
        "outputId": "8a234116-60aa-4995-8610-379237feaba7"
      },
      "execution_count": null,
      "outputs": [
        {
          "output_type": "stream",
          "name": "stdout",
          "text": [
            "Password/Enpoint IP for localtunnel is: 34.168.213.242\n"
          ]
        }
      ]
    },
    {
      "cell_type": "code",
      "source": [
        "!npm install localtunnel\n",
        "# 5\n",
        "!streamlit run app.py &>/content/logs.txt &\n",
        "# 6\n",
        "!npx localtunnel --port 8501\n",
        "\n",
        "# \"your url is:\" 우측에 사이트 주소가 생성된다."
      ],
      "metadata": {
        "colab": {
          "base_uri": "https://localhost:8080/"
        },
        "id": "E6RR23PC2iAo",
        "outputId": "fc7e1c96-1835-4745-f6da-0ed35ceb31d2"
      },
      "execution_count": null,
      "outputs": [
        {
          "output_type": "stream",
          "name": "stdout",
          "text": [
            "\u001b[1G\u001b[0K⠙\u001b[1G\u001b[0K⠹\u001b[1G\u001b[0K⠸\u001b[1G\u001b[0K⠼\u001b[1G\u001b[0K⠴\u001b[1G\u001b[0K\n",
            "up to date, audited 23 packages in 653ms\n",
            "\u001b[1G\u001b[0K⠴\u001b[1G\u001b[0K\n",
            "\u001b[1G\u001b[0K⠴\u001b[1G\u001b[0K3 packages are looking for funding\n",
            "\u001b[1G\u001b[0K⠴\u001b[1G\u001b[0K  run `npm fund` for details\n",
            "\u001b[1G\u001b[0K⠴\u001b[1G\u001b[0K\n",
            "2 \u001b[31m\u001b[1mhigh\u001b[22m\u001b[39m severity vulnerabilities\n",
            "\n",
            "To address all issues (including breaking changes), run:\n",
            "  npm audit fix --force\n",
            "\n",
            "Run `npm audit` for details.\n",
            "\u001b[1G\u001b[0K⠴\u001b[1G\u001b[0K\u001b[1G\u001b[0K⠙\u001b[1G\u001b[0Kyour url is: https://cute-bottles-knock.loca.lt\n",
            "^C\n"
          ]
        }
      ]
    }
  ]
}